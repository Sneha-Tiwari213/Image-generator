{
  "nbformat": 4,
  "nbformat_minor": 0,
  "metadata": {
    "colab": {
      "provenance": [],
      "gpuType": "T4"
    },
    "kernelspec": {
      "name": "python3",
      "display_name": "Python 3"
    },
    "language_info": {
      "name": "python"
    },
    "accelerator": "GPU"
  },
  "cells": [
    {
      "cell_type": "code",
      "execution_count": null,
      "metadata": {
        "id": "Bi0V0NsTU6Tj"
      },
      "outputs": [],
      "source": [
        "!pip install gradio openai diffusers==0.10.2 transformers scipy ftfy accelerate torch"
      ]
    },
    {
      "cell_type": "code",
      "source": [
        "from diffusers import StableDiffusionPipeline\n",
        "import torch\n",
        "\n",
        "pipeline = StableDiffusionPipeline.from_pretrained(\"MohamedRashad/diffusion_fashion\", torch_dtype=torch.float16)\n"
      ],
      "metadata": {
        "id": "KEJFHxwyVAoD"
      },
      "execution_count": null,
      "outputs": []
    },
    {
      "cell_type": "code",
      "source": [
        "pipeline.to(\"cuda\")"
      ],
      "metadata": {
        "id": "1EWSH1pfVEGe"
      },
      "execution_count": null,
      "outputs": []
    },
    {
      "cell_type": "code",
      "source": [
        "from PIL import Image\n",
        "\n",
        "def image_grid(imgs, rows, cols):\n",
        "    assert len(imgs) == rows*cols\n",
        "\n",
        "    w, h = imgs[0].size\n",
        "    grid = Image.new('RGB', size=(cols*w, rows*h))\n",
        "    grid_w, grid_h = grid.size\n",
        "\n",
        "    for i, img in enumerate(imgs):\n",
        "        grid.paste(img, box=(i%cols*w, i//cols*h))\n",
        "    return grid\n"
      ],
      "metadata": {
        "id": "FipeqjNKVJOc"
      },
      "execution_count": null,
      "outputs": []
    },
    {
      "cell_type": "code",
      "source": [
        "def generate_image(prompt):\n",
        "  num_images = 3\n",
        "  prompt = [prompt] * num_images\n",
        "\n",
        "  images = pipeline(prompt).images\n",
        "  #print(images)\n",
        "  grid = image_grid(images, rows=1, cols=3)\n",
        "\n",
        "  grid.save(f\"prompt.png\")\n",
        "  return grid\n",
        "\n",
        "# you can save the grid with\n",
        "# grid.save(f\"astronaut_rides_horse.png\")\n"
      ],
      "metadata": {
        "id": "uvReNkZ2VKC1"
      },
      "execution_count": null,
      "outputs": []
    },
    {
      "cell_type": "code",
      "source": [
        "#for testing in colab run this code\n",
        "\"\"\"\n",
        "prompt=input()\n",
        "#num=int(input())\n",
        "grid=generate_image(prompt)\n",
        "grid\n",
        "\"\"\""
      ],
      "metadata": {
        "id": "JlEGQmZqVMX7"
      },
      "execution_count": null,
      "outputs": []
    },
    {
      "cell_type": "code",
      "source": [
        "import gradio as gr\n",
        "demo=gr.Interface(\n",
        "    fn=generate_image,\n",
        "    inputs=\"text\",\n",
        "    outputs=\"image\",\n",
        "    title=\"Image Generation\",\n",
        "    description=\"Enter a prompt and see a grid of generated images.\",\n",
        "    layout=\"vertical\",\n",
        ")\n",
        "\n",
        "demo.launch(share=True)"
      ],
      "metadata": {
        "id": "XRuncnitVTfA"
      },
      "execution_count": null,
      "outputs": []
    }
  ]
}